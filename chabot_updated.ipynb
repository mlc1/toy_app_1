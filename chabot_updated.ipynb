{
 "cells": [
  {
   "cell_type": "code",
   "execution_count": 66,
   "id": "e68e471a",
   "metadata": {},
   "outputs": [],
   "source": [
    "import os\n",
    "from langchain_ollama import ChatOllama\n",
    "import os\n",
    "from dotenv import load_dotenv, find_dotenv\n",
    "\n",
    "# Carga las variables de entorno desde el archivo .env\n",
    "_ = load_dotenv(find_dotenv())"
   ]
  },
  {
   "cell_type": "code",
   "execution_count": 67,
   "id": "63adbf35",
   "metadata": {},
   "outputs": [],
   "source": [
    "# Usar parámetros específicos para evitar problemas de serialización\n",
    "chat = ChatOllama(\n",
    "    model='gemma3n:latest',\n",
    "    temperature=0.7,\n",
    "    # Agregar configuración para evitar problemas de serialización\n",
    "    base_url=\"http://localhost:11434\",\n",
    "    \n",
    ")"
   ]
  },
  {
   "cell_type": "markdown",
   "id": "40e0e301",
   "metadata": {},
   "source": [
    "# Definimos una lista de mensajes para enviar al chatbot"
   ]
  },
  {
   "cell_type": "code",
   "execution_count": 68,
   "id": "4b7ed4a9",
   "metadata": {},
   "outputs": [],
   "source": [
    "from langchain_core.messages import HumanMessage\n",
    "\n",
    "mensajes_para_el_chatbot =[HumanMessage(content='Mi Nombre es Manuel')]"
   ]
  },
  {
   "cell_type": "markdown",
   "id": "c5347e9b",
   "metadata": {},
   "source": [
    "##### Enviamos el mensaje al modelo"
   ]
  },
  {
   "cell_type": "code",
   "execution_count": 69,
   "id": "6a8cf139",
   "metadata": {},
   "outputs": [
    {
     "data": {
      "text/plain": [
       "AIMessage(content='¡Hola Manuel! Un gusto conocerte. ¿En qué puedo ayudarte hoy? 😊 \\n\\n(Hello Manuel! Nice to meet you. How can I help you today?)\\n', response_metadata={'model': 'gemma3n:latest', 'created_at': '2025-08-15T15:43:11.406958271Z', 'done': True, 'done_reason': 'stop', 'total_duration': 17124493737, 'load_duration': 11783302423, 'prompt_eval_count': 13, 'prompt_eval_duration': 670382321, 'eval_count': 37, 'eval_duration': 4669248188, 'message': Message(role='assistant', content='', thinking=None, images=None, tool_name=None, tool_calls=None)}, id='run-ae69de14-bfdc-45ed-97b1-20863f4607b1-0', usage_metadata={'input_tokens': 13, 'output_tokens': 37, 'total_tokens': 50})"
      ]
     },
     "execution_count": 69,
     "metadata": {},
     "output_type": "execute_result"
    }
   ],
   "source": [
    "chat.invoke(mensajes_para_el_chatbot)"
   ]
  },
  {
   "cell_type": "markdown",
   "id": "4e5a70bd",
   "metadata": {},
   "source": [
    "preguntamos al modelo para saber si recuerda lo que le hemos preguntado"
   ]
  },
  {
   "cell_type": "code",
   "execution_count": 70,
   "id": "54fb9abf",
   "metadata": {},
   "outputs": [
    {
     "data": {
      "text/plain": [
       "AIMessage(content='Soy un modelo de lenguaje grande, entrenado por Google. No tengo nombre propio. Puedes llamarme simplemente \"el modelo de lenguaje\" o \"la IA\". 😊\\n', response_metadata={'model': 'gemma3n:latest', 'created_at': '2025-08-15T15:43:16.551730605Z', 'done': True, 'done_reason': 'stop', 'total_duration': 5131585350, 'load_duration': 110446970, 'prompt_eval_count': 14, 'prompt_eval_duration': 583502397, 'eval_count': 35, 'eval_duration': 4437152496, 'message': Message(role='assistant', content='', thinking=None, images=None, tool_name=None, tool_calls=None)}, id='run-556dfbec-ec68-42de-b97b-0cffe900d012-0', usage_metadata={'input_tokens': 14, 'output_tokens': 35, 'total_tokens': 49})"
      ]
     },
     "execution_count": 70,
     "metadata": {},
     "output_type": "execute_result"
    }
   ],
   "source": [
    "chat.invoke([HumanMessage(content='Como me llamo?')])"
   ]
  },
  {
   "cell_type": "markdown",
   "id": "ad6d81bc",
   "metadata": {},
   "source": [
    "## Agreguemos memoria a nuestro Chatbot\n",
    "* Usaremos el paquete ChatMessageHistory.\n",
    "* Guardaremos la memoria del Chatbot en un diccionario de python llamado chatbotMemory.\n",
    "* Definiremos la función get_session_history para crear un session_id para cada conversación.\n",
    "* Usaremos el runnable incorporado RunnableWithMesageHistory."
   ]
  },
  {
   "cell_type": "code",
   "execution_count": 71,
   "id": "6f5fa12c",
   "metadata": {},
   "outputs": [],
   "source": [
    "from langchain_community.chat_message_histories import ChatMessageHistory\n",
    "from langchain_core.chat_history import BaseChatMessageHistory\n",
    "from langchain_core.runnables.history import RunnableWithMessageHistory\n",
    "\n",
    "# Diccionario para almacenar la memoria del chatbot por sesión\n",
    "chatMemory = {}\n",
    "\n",
    "# Función para obtener el historial de chat de una sesión\n",
    "# input: session_id, output: chatbotMemory[session_id]\n",
    "def get_session_history(session_id: str) -> BaseChatMessageHistory:\n",
    "    # Si no existe una entrada para este session_id, crea una nueva\n",
    "    if session_id not in chatMemory:\n",
    "        chatMemory[session_id] = ChatMessageHistory()\n",
    "    return chatMemory[session_id]\n",
    "\n",
    "# Crea un chatbot con historial de mensajes\n",
    "chatbot_con_memoria = RunnableWithMessageHistory(\n",
    "    chat, \n",
    "    get_session_history\n",
    ")"
   ]
  },
  {
   "cell_type": "code",
   "execution_count": 72,
   "id": "4cef0630",
   "metadata": {},
   "outputs": [],
   "source": [
    "session1= {'configurable':{'session_id':'001'}}"
   ]
  },
  {
   "cell_type": "code",
   "execution_count": 85,
   "id": "b741337c",
   "metadata": {},
   "outputs": [],
   "source": [
    "mensaje = [HumanMessage(content=\"Mi Nombre es Manuel\")]"
   ]
  },
  {
   "cell_type": "code",
   "execution_count": 86,
   "id": "5bebf16e",
   "metadata": {},
   "outputs": [
    {
     "name": "stderr",
     "output_type": "stream",
     "text": [
      "NotImplementedError in RootListenersTracer.on_llm_end callback: NotImplementedError('Trying to load an object that doesn\\'t implement serialization: {\\'lc\\': 1, \\'type\\': \\'not_implemented\\', \\'id\\': [\\'ollama\\', \\'_types\\', \\'Message\\'], \\'repr\\': \"Message(role=\\'assistant\\', content=\\'\\', thinking=None, images=None, tool_name=None, tool_calls=None)\"}')\n"
     ]
    },
    {
     "data": {
      "text/plain": [
       "'¡Hola Manuel! Veo que estás confirmando tu nombre. ¡Bienvenido! 😊\\n\\n¿Hay algo en particular que te gustaría que hiciéramos? ¿Tienes alguna pregunta, necesitas ayuda con algo, o simplemente quieres conversar? \\n\\nEstoy aquí para ayudarte en lo que pueda.'"
      ]
     },
     "execution_count": 86,
     "metadata": {},
     "output_type": "execute_result"
    }
   ],
   "source": [
    "from langchain_core.messages import HumanMessage\n",
    "\n",
    "# Invoca al chatbot con historial de mensajes y la configuración de la sesión 1\n",
    "respuesta = chatbot_con_memoria.invoke(mensaje\n",
    "    ,\n",
    "    config=session1\n",
    ")\n",
    "chatMemory['001'].add_message(HumanMessage(content=\"Mi Nombre es Manuel\"))\n",
    "\n",
    "# Imprime el contenido de la respuesta del chatbot\n",
    "respuesta.content"
   ]
  },
  {
   "cell_type": "code",
   "execution_count": 82,
   "id": "098da60f",
   "metadata": {},
   "outputs": [
    {
     "name": "stdout",
     "output_type": "stream",
     "text": [
      "[HumanMessage(content='Mi Nombre es Manuel'), AIMessage(content='¡Hola Manuel! Un gusto conocerte. ¿En qué puedo ayudarte hoy? 😊 \\n\\nDime, ¿tienes alguna pregunta, necesitas información sobre algo, o simplemente quieres charlar? Estoy aquí para lo que necesites.\\n', response_metadata={'model': 'gemma3n:latest', 'created_at': '2025-08-15T15:44:58.839957607Z', 'done': True, 'done_reason': 'stop', 'total_duration': 6198925953, 'load_duration': 125159703, 'prompt_eval_count': 13, 'prompt_eval_duration': 401563487, 'eval_count': 49, 'eval_duration': 5671787524, 'message': Message(role='assistant', content='', thinking=None, images=None, tool_name=None, tool_calls=None)}, id='run-aa2a833f-bd46-4bfb-8094-ebbd0ad0ad1d-0', usage_metadata={'input_tokens': 13, 'output_tokens': 49, 'total_tokens': 62}), HumanMessage(content='Mi Nombre es Manuel')]\n"
     ]
    }
   ],
   "source": [
    "print(chatMemory['001'].messages)"
   ]
  },
  {
   "cell_type": "code",
   "execution_count": null,
   "id": "258b7e9e",
   "metadata": {},
   "outputs": [
    {
     "name": "stderr",
     "output_type": "stream",
     "text": [
      "NotImplementedError in RootListenersTracer.on_llm_end callback: NotImplementedError('Trying to load an object that doesn\\'t implement serialization: {\\'lc\\': 1, \\'type\\': \\'not_implemented\\', \\'id\\': [\\'ollama\\', \\'_types\\', \\'Message\\'], \\'repr\\': \"Message(role=\\'assistant\\', content=\\'\\', thinking=None, images=None, tool_name=None, tool_calls=None)\"}')\n"
     ]
    },
    {
     "data": {
      "text/plain": [
       "'¡Tu nombre es Manuel! Ya me lo dijiste al principio. 😊 \\n\\n¿Estás probando si estoy prestando atención? ¡Lo estoy! 😉\\n'"
      ]
     },
     "execution_count": 83,
     "metadata": {},
     "output_type": "execute_result"
    }
   ],
   "source": [
    "respuesta = chatbot_con_memoria.invoke(\n",
    "    [HumanMessage(content='Como me llamo?')],\n",
    "    config=session1)\n",
    "respuesta.content\n"
   ]
  },
  {
   "cell_type": "code",
   "execution_count": 84,
   "id": "8af373a8",
   "metadata": {},
   "outputs": [
    {
     "name": "stdout",
     "output_type": "stream",
     "text": [
      "[HumanMessage(content='Mi Nombre es Manuel'), AIMessage(content='¡Hola Manuel! Un gusto conocerte. ¿En qué puedo ayudarte hoy? 😊 \\n\\nDime, ¿tienes alguna pregunta, necesitas información sobre algo, o simplemente quieres charlar? Estoy aquí para lo que necesites.\\n', response_metadata={'model': 'gemma3n:latest', 'created_at': '2025-08-15T15:44:58.839957607Z', 'done': True, 'done_reason': 'stop', 'total_duration': 6198925953, 'load_duration': 125159703, 'prompt_eval_count': 13, 'prompt_eval_duration': 401563487, 'eval_count': 49, 'eval_duration': 5671787524, 'message': Message(role='assistant', content='', thinking=None, images=None, tool_name=None, tool_calls=None)}, id='run-aa2a833f-bd46-4bfb-8094-ebbd0ad0ad1d-0', usage_metadata={'input_tokens': 13, 'output_tokens': 49, 'total_tokens': 62}), HumanMessage(content='Mi Nombre es Manuel')]\n"
     ]
    }
   ],
   "source": [
    "print(chatMemory['001'].messages)"
   ]
  },
  {
   "cell_type": "code",
   "execution_count": null,
   "id": "7c80b7ac",
   "metadata": {},
   "outputs": [],
   "source": []
  }
 ],
 "metadata": {
  "kernelspec": {
   "display_name": "app_1",
   "language": "python",
   "name": "python3"
  },
  "language_info": {
   "codemirror_mode": {
    "name": "ipython",
    "version": 3
   },
   "file_extension": ".py",
   "mimetype": "text/x-python",
   "name": "python",
   "nbconvert_exporter": "python",
   "pygments_lexer": "ipython3",
   "version": "3.11.8"
  }
 },
 "nbformat": 4,
 "nbformat_minor": 5
}
