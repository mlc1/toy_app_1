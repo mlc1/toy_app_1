{
 "cells": [
  {
   "cell_type": "markdown",
   "id": "5d733e1a-fff5-4739-b702-cc4af0a69d41",
   "metadata": {},
   "source": [
    "# Cómo construir un chatbot simple con memoria almacenada usando LangChain\n",
    "* Aplicación de Chatbot simple con LLM.\n",
    "    * Podrá mantener una conversación.\n",
    "    * Recordará interacciones previas: tendrá memoria.\n",
    "    * Podrá almacenar la memoria en un archivo JSON."
   ]
  },
  {
   "cell_type": "markdown",
   "id": "077c88f7",
   "metadata": {},
   "source": [
    "Una aplicación de chatbot es un software diseñado para simular conversaciones con usuarios humanos. Utiliza inteligencia artificial (IA) para entender lo que alguien está diciendo y responder con respuestas apropiadas. Estas aplicaciones pueden usarse para diversos propósitos como soporte al cliente, proporcionar información o entretenimiento. Esencialmente, es como enviar mensajes de texto con un programa que puede responder preguntas y ayudar con tareas."
   ]
  },
  {
   "cell_type": "markdown",
   "id": "d0399355-dece-4701-9bf4-4c204fe74929",
   "metadata": {},
   "source": [
    "## Conceptos incluidos\n",
    "* Modelo de Chat vs. Modelo LLM:\n",
    "    * El modelo de chat se basa en mensajes.\n",
    "    * El modelo LLM se basa en texto sin formato.\n",
    "* Historial de chat: permite que el modelo de chat recuerde interacciones previas."
   ]
  },
  {
   "cell_type": "markdown",
   "id": "48386f20-c929-48a9-8720-0953fcd67dd0",
   "metadata": {},
   "source": [
    "## Configuración"
   ]
  },
  {
   "cell_type": "markdown",
   "id": "e65ee060-21f2-4e01-b283-1fd656dac1e9",
   "metadata": {},
   "source": [
    "#### Después de descargar el código del repositorio de GitHub en tu computadora\n",
    "En la terminal:\n",
    "* cd nombre_del_proyecto\n",
    "* pyenv local 3.11.4\n",
    "* poetry install\n",
    "* poetry shell\n",
    "\n",
    "#### Para abrir el notebook con Jupyter Notebooks\n",
    "En la terminal:\n",
    "* jupyter lab\n",
    "\n",
    "Ve a la carpeta de notebooks y abre el notebook correcto.\n",
    "\n",
    "#### Para ver el código en Visual Studio Code o tu editor preferido.\n",
    "* Abre Visual Studio Code o tu editor preferido.\n",
    "* Abre la carpeta del proyecto.\n",
    "* Abre el archivo 001-simple-chatbot.py."
   ]
  },
  {
   "cell_type": "markdown",
   "id": "43366d64-13e4-4b4e-b0ff-3113ff803fab",
   "metadata": {},
   "source": [
    "## Crea tu archivo .env\n",
    "* En el repositorio de GitHub hemos incluido un archivo llamado .env.example.\n",
    "* Renombra ese archivo a .env y aquí es donde agregarás tus claves API confidenciales. Recuerda incluir:\n",
    "* OPENAI_API_KEY=tu_clave_api_de_openai\n",
    "* LANGCHAIN_TRACING_V2=true\n",
    "* LANGCHAIN_ENDPOINT=https://api.smith.langchain.com\n",
    "* LANGCHAIN_API_KEY=tu_clave_api_de_langchain\n",
    "* LANGCHAIN_PROJECT=tu_nombre_de_proyecto"
   ]
  },
  {
   "cell_type": "markdown",
   "id": "40a63ff6-99ff-4629-b965-547d12a99ba6",
   "metadata": {},
   "source": [
    "Llamaremos a nuestro proyecto LangSmith **001-simple-chatbot**."
   ]
  },
  {
   "cell_type": "markdown",
   "id": "7584e1f0-5e9e-4e45-850c-c606234b6ee2",
   "metadata": {},
   "source": [
    "## Truco para evitar las molestas advertencias de depreciación de LangChain"
   ]
  },
  {
   "cell_type": "markdown",
   "id": "78b4224a-d719-46fd-b261-dd913b17ec86",
   "metadata": {},
   "source": [
    "En este ejercicio usaremos la cadena heredada de LangChain, LLMChain. Funciona bien, pero LangChain muestra una molesta advertencia de depreciación. Para evitarla, ingresaremos el siguiente código:"
   ]
  },
  {
   "cell_type": "code",
   "execution_count": null,
   "id": "eddbcf93-0b58-4506-af83-2fa2203c711c",
   "metadata": {},
   "outputs": [],
   "source": [
    "# filepath: /home/manu/dev/bootcamp/app_1/zzz-nb001-simple-chatbot.ipynb\n",
    "import warnings\n",
    "from langchain._api import LangChainDeprecationWarning\n",
    "\n",
    "# Ignorar las advertencias de depreciación específicas de LangChain\n",
    "warnings.simplefilter(\"ignore\", category=LangChainDeprecationWarning)"
   ]
  },
  {
   "cell_type": "markdown",
   "id": "45c0a44b-bbb4-4918-bd21-a62ee40f6d3f",
   "metadata": {},
   "source": [
    "## Conéctate con el archivo .env ubicado en el mismo directorio de este notebook"
   ]
  },
  {
   "cell_type": "markdown",
   "id": "f3e28f89-755a-455f-8f4e-70ccbb89c93e",
   "metadata": {},
   "source": [
    "Si estás usando el entorno pre-cargado de poetry shell, no necesitas instalar el siguiente paquete porque ya está pre-cargado:"
   ]
  },
  {
   "cell_type": "code",
   "execution_count": null,
   "id": "8626f160-fcd3-41ca-a5ab-3e98f11595a9",
   "metadata": {},
   "outputs": [],
   "source": [
    "# filepath: /home/manu/dev/bootcamp/app_1/zzz-nb001-simple-chatbot.ipynb\n",
    "#!pip install python-dotenv"
   ]
  },
  {
   "cell_type": "code",
   "execution_count": null,
   "id": "992ec4a9-aa01-4e44-aeb9-b9a1f3aa9e54",
   "metadata": {},
   "outputs": [],
   "source": [
    "# filepath: /home/manu/dev/bootcamp/app_1/zzz-nb001-simple-chatbot.ipynb\n",
    "import os\n",
    "from dotenv import load_dotenv, find_dotenv\n",
    "\n",
    "# Cargar las variables de entorno desde el archivo .env\n",
    "_ = load_dotenv(find_dotenv())\n",
    "openai_api_key = os.environ[\"OPENAI_API_KEY\"]"
   ]
  },
  {
   "cell_type": "markdown",
   "id": "6c01d18b-f9f0-427b-a9dc-3d1885160578",
   "metadata": {},
   "source": [
    "#### Instalar LangChain"
   ]
  },
  {
   "cell_type": "markdown",
   "id": "ceed6d60-5cbd-43e4-9a69-ed71d82a2a9b",
   "metadata": {},
   "source": [
    "Si estás usando el entorno pre-cargado de poetry shell, no necesitas instalar el siguiente paquete porque ya está pre-cargado:"
   ]
  },
  {
   "cell_type": "code",
   "execution_count": null,
   "id": "ed746499-d1b8-41e5-b131-270cf5fa229b",
   "metadata": {},
   "outputs": [],
   "source": [
    "# filepath: /home/manu/dev/bootcamp/app_1/zzz-nb001-simple-chatbot.ipynb\n",
    "#!pip install langchain"
   ]
  },
  {
   "cell_type": "markdown",
   "id": "cc2af3ef-c2c7-445f-92bd-a29c68abce25",
   "metadata": {},
   "source": [
    "## Conéctate con un LLM y comienza una conversación"
   ]
  },
  {
   "cell_type": "markdown",
   "id": "659bdc4c-484d-4ec0-89b6-5f1e979610ce",
   "metadata": {},
   "source": [
    "Si estás usando el entorno pre-cargado de poetry shell, no necesitas instalar el siguiente paquete porque ya está pre-cargado:"
   ]
  },
  {
   "cell_type": "code",
   "execution_count": null,
   "id": "3fa7337f-3d60-4ede-bdf8-aa7a5cffec43",
   "metadata": {},
   "outputs": [],
   "source": [
    "# filepath: /home/manu/dev/bootcamp/app_1/zzz-nb001-simple-chatbot.ipynb\n",
    "#!pip install langchain-openai"
   ]
  },
  {
   "cell_type": "markdown",
   "id": "bce3551e-95ca-41a1-8810-89c495bf93ab",
   "metadata": {},
   "source": [
    "* Para este proyecto, usaremos gpt-3.5-turbo de OpenAI."
   ]
  },
  {
   "cell_type": "code",
   "execution_count": null,
   "id": "9afcbc7d-a816-41e3-925f-850883f5770d",
   "metadata": {},
   "outputs": [],
   "source": [
    "# filepath: /home/manu/dev/bootcamp/app_1/zzz-nb001-simple-chatbot.ipynb\n",
    "from langchain_openai import ChatOpenAI\n",
    "\n",
    "# Crear una instancia del chatbot usando el modelo gpt-3.5-turbo\n",
    "chatbot = ChatOpenAI(model=\"gpt-3.5-turbo\")"
   ]
  },
  {
   "cell_type": "markdown",
   "id": "b0a1d409-7f2f-40a4-90c5-ad77dad3edce",
   "metadata": {},
   "source": [
    "* Mensaje humano: la entrada del usuario."
   ]
  },
  {
   "cell_type": "code",
   "execution_count": null,
   "id": "c5dc0613-fb6d-4c82-a614-9e7307714303",
   "metadata": {},
   "outputs": [],
   "source": [
    "# filepath: /home/manu/dev/bootcamp/app_1/zzz-nb001-simple-chatbot.ipynb\n",
    "from langchain_core.messages import HumanMessage\n",
    "\n",
    "# Crear un mensaje para el chatbot\n",
    "messagesToTheChatbot = [\n",
    "    HumanMessage(content=\"Mi color favorito es azul.\"),\n",
    "]"
   ]
  },
  {
   "cell_type": "markdown",
   "id": "479b36ec-341a-47bc-af32-30cfb939810d",
   "metadata": {},
   "source": [
    "#### Llamar al modelo de chat (el LLM)"
   ]
  },
  {
   "cell_type": "code",
   "execution_count": null,
   "id": "db815e32-8e60-46b3-8cce-fbf40e378397",
   "metadata": {},
   "outputs": [
    {
     "data": {
      "text/plain": [
       "AIMessage(content='Blue is a calming and peaceful color that represents tranquility and serenity. It is often associated with the sky and the ocean, evoking feelings of freedom and openness. Blue is also known to symbolize trust, loyalty, and wisdom. Overall, blue is a versatile and timeless color that is loved by many.', response_metadata={'token_usage': {'completion_tokens': 63, 'prompt_tokens': 13, 'total_tokens': 76}, 'model_name': 'gpt-3.5-turbo', 'system_fingerprint': None, 'finish_reason': 'stop', 'logprobs': None}, id='run-c04030ec-cc97-4525-bcb6-617d9b705b64-0', usage_metadata={'input_tokens': 13, 'output_tokens': 63, 'total_tokens': 76})"
      ]
     },
     "execution_count": 8,
     "metadata": {},
     "output_type": "execute_result"
    }
   ],
   "source": [
    "# filepath: /home/manu/dev/bootcamp/app_1/zzz-nb001-simple-chatbot.ipynb\n",
    "# Invocar el chatbot con los mensajes proporcionados\n",
    "chatbot.invoke(messagesToTheChatbot)"
   ]
  },
  {
   "cell_type": "markdown",
   "id": "9913fc8c-254f-410d-aa8f-35eb0898855e",
   "metadata": {},
   "source": [
    "#### Seguimiento de la operación en LangSmith\n",
    "* [Abre LangSmith aquí](smith.langchain.com)"
   ]
  },
  {
   "cell_type": "markdown",
   "id": "0e62b67b-9798-4705-8b8a-dbfdf8c93ed8",
   "metadata": {},
   "source": [
    "## Verifica si el chatbot recuerda tu color favorito."
   ]
  },
  {
   "cell_type": "code",
   "execution_count": null,
   "id": "c0ead4ee-bda3-4c52-9bdb-7bf234733055",
   "metadata": {},
   "outputs": [
    {
     "data": {
      "text/plain": [
       "AIMessage(content=\"I'm sorry, I do not have access to that information.\", response_metadata={'token_usage': {'completion_tokens': 13, 'prompt_tokens': 13, 'total_tokens': 26}, 'model_name': 'gpt-3.5-turbo', 'system_fingerprint': None, 'finish_reason': 'stop', 'logprobs': None}, id='run-a31d0a71-a438-4cf2-aae1-8b992b0581a7-0', usage_metadata={'input_tokens': 13, 'output_tokens': 13, 'total_tokens': 26})"
      ]
     },
     "execution_count": 9,
     "metadata": {},
     "output_type": "execute_result"
    }
   ],
   "source": [
    "# filepath: /home/manu/dev/bootcamp/app_1/zzz-nb001-simple-chatbot.ipynb\n",
    "# Preguntar al chatbot sobre el color favorito del usuario\n",
    "chatbot.invoke([\n",
    "    HumanMessage(content=\"¿Cuál es mi color favorito?\")\n",
    "])"
   ]
  },
  {
   "cell_type": "markdown",
   "id": "faec947e-b9b7-43e3-ac67-60027e049f3c",
   "metadata": {},
   "source": [
    "* Como puedes ver, nuestro chatbot no puede recordar nuestra interacción previa."
   ]
  },
  {
   "cell_type": "markdown",
   "id": "3df0143e-8bc8-45ad-ac6f-05aaf659c683",
   "metadata": {},
   "source": [
    "## Agreguemos memoria a nuestro chatbot"
   ]
  },
  {
   "cell_type": "markdown",
   "id": "b6062df1-33ce-436e-b5b2-cea78ae7b860",
   "metadata": {},
   "source": [
    "Si estás usando el entorno pre-cargado de poetry shell, no necesitas instalar el siguiente paquete porque ya está pre-cargado:"
   ]
  },
  {
   "cell_type": "code",
   "execution_count": null,
   "id": "23533a37-6060-4d32-9b0c-36a9ea57a634",
   "metadata": {},
   "outputs": [],
   "source": [
    "# filepath: /home/manu/dev/bootcamp/app_1/zzz-nb001-simple-chatbot.ipynb\n",
    "#!pip install langchain_community"
   ]
  },
  {
   "cell_type": "code",
   "execution_count": null,
   "id": "735752cc-ecb5-4942-9ed0-b3213f5768c8",
   "metadata": {},
   "outputs": [],
   "source": [
    "# filepath: /home/manu/dev/bootcamp/app_1/zzz-nb001-simple-chatbot.ipynb\n",
    "from langchain import LLMChain\n",
    "from langchain_core.prompts import ChatPromptTemplate\n",
    "from langchain_core.prompts import HumanMessagePromptTemplate\n",
    "from langchain_core.prompts import MessagesPlaceholder\n",
    "from langchain.memory import ConversationBufferMemory\n",
    "from langchain.memory import FileChatMessageHistory\n",
    "\n",
    "# Importar las bibliotecas necesarias para agregar memoria al chatbot"
   ]
  },
  {
   "cell_type": "code",
   "execution_count": null,
   "id": "542bbf66-bc77-4488-8487-b55cdb8bc8bf",
   "metadata": {},
   "outputs": [],
   "source": [
    "# filepath: /home/manu/dev/bootcamp/app_1/zzz-nb001-simple-chatbot.ipynb\n",
    "# Configurar memoria para el chatbot usando un archivo JSON\n",
    "memory = ConversationBufferMemory(\n",
    "    chat_memory=FileChatMessageHistory(\"messages.json\"),\n",
    "    memory_key=\"messages\",\n",
    "    return_messages=True\n",
    ")"
   ]
  },
  {
   "cell_type": "code",
   "execution_count": null,
   "id": "27e8431b-5290-4f7f-9566-a90deb060bd1",
   "metadata": {},
   "outputs": [],
   "source": [
    "# filepath: /home/manu/dev/bootcamp/app_1/zzz-nb001-simple-chatbot.ipynb\n",
    "# Crear un prompt para el chatbot con soporte de memoria\n",
    "prompt = ChatPromptTemplate(\n",
    "    input_variables=[\"content\", \"messages\"],\n",
    "    messages=[\n",
    "        MessagesPlaceholder(variable_name=\"messages\"),\n",
    "        HumanMessagePromptTemplate.from_template(\"{content}\")\n",
    "    ]\n",
    ")"
   ]
  },
  {
   "cell_type": "code",
   "execution_count": null,
   "id": "72392539-0f20-456b-b32d-d367b48245f6",
   "metadata": {},
   "outputs": [
    {
     "name": "stderr",
     "output_type": "stream",
     "text": [
      "/Users/juliocolomer/.pyenv/versions/3.11.4/envs/venv053024-p2/lib/python3.11/site-packages/langchain_core/_api/deprecation.py:119: LangChainDeprecationWarning: The class `LLMChain` was deprecated in LangChain 0.1.17 and will be removed in 0.3.0. Use RunnableSequence, e.g., `prompt | llm` instead.\n",
      "  warn_deprecated(\n"
     ]
    }
   ],
   "source": [
    "# filepath: /home/manu/dev/bootcamp/app_1/zzz-nb001-simple-chatbot.ipynb\n",
    "# Crear una cadena LLM con memoria y el prompt configurado\n",
    "chain = LLMChain(\n",
    "    llm=chatbot,\n",
    "    prompt=prompt,\n",
    "    memory=memory\n",
    ")"
   ]
  },
  {
   "cell_type": "code",
   "execution_count": null,
   "id": "57e40af4-1539-497d-afbf-ed38fed90838",
   "metadata": {},
   "outputs": [
    {
     "data": {
      "text/plain": [
       "{'content': 'hello!',\n",
       " 'messages': [],\n",
       " 'text': 'Hello! How can I assist you today?'}"
      ]
     },
     "execution_count": 15,
     "metadata": {},
     "output_type": "execute_result"
    }
   ],
   "source": [
    "# filepath: /home/manu/dev/bootcamp/app_1/zzz-nb001-simple-chatbot.ipynb\n",
    "# Probar la cadena con un mensaje inicial\n",
    "chain.invoke(\"¡Hola!\")"
   ]
  },
  {
   "cell_type": "code",
   "execution_count": null,
   "id": "2b79cc08-49dd-4746-ab68-9d8ec992abb4",
   "metadata": {},
   "outputs": [
    {
     "data": {
      "text/plain": [
       "{'content': 'my name is Julio',\n",
       " 'messages': [HumanMessage(content='hello!'),\n",
       "  AIMessage(content='Hello! How can I assist you today?')],\n",
       " 'text': 'Nice to meet you, Julio! How can I help you today?'}"
      ]
     },
     "execution_count": 16,
     "metadata": {},
     "output_type": "execute_result"
    }
   ],
   "source": [
    "# filepath: /home/manu/dev/bootcamp/app_1/zzz-nb001-simple-chatbot.ipynb\n",
    "# Probar la cadena con un mensaje que incluye información personal\n",
    "chain.invoke(\"Mi nombre es Julio\")"
   ]
  },
  {
   "cell_type": "code",
   "execution_count": null,
   "id": "96e69c4f-b5ed-4c68-9a2a-67a19867f8bd",
   "metadata": {},
   "outputs": [
    {
     "data": {
      "text/plain": [
       "{'content': 'what is my name?',\n",
       " 'messages': [HumanMessage(content='hello!'),\n",
       "  AIMessage(content='Hello! How can I assist you today?'),\n",
       "  HumanMessage(content='my name is Julio'),\n",
       "  AIMessage(content='Nice to meet you, Julio! How can I help you today?')],\n",
       " 'text': 'Your name is Julio.'}"
      ]
     },
     "execution_count": 17,
     "metadata": {},
     "output_type": "execute_result"
    }
   ],
   "source": [
    "# filepath: /home/manu/dev/bootcamp/app_1/zzz-nb001-simple-chatbot.ipynb\n",
    "# Preguntar al chatbot sobre la información almacenada en la memoria\n",
    "chain.invoke(\"¿Cuál es mi nombre?\")"
   ]
  },
  {
   "cell_type": "markdown",
   "id": "44245124-ef39-4269-a099-21c9c31c08bb",
   "metadata": {},
   "source": [
    "* Revisa el archivo messages.json en el directorio raíz.\n",
    "* Esto es solo un ejemplo simple, en el mundo real probablemente no guardarás tu memoria en un archivo JSON.\n",
    "* Y recuerda: la ventana de contexto es limitada y afecta el costo de usar la API de chatGPT."
   ]
  },
  {
   "cell_type": "markdown",
   "id": "36a9faf6-2772-4ef5-8241-d1e00c761ca4",
   "metadata": {},
   "source": [
    "## Cómo ejecutar el código desde Visual Studio Code\n",
    "* En Visual Studio Code, ve al archivo 001-simple-chatbot.py.\n",
    "* En la terminal, asegúrate de estar en el directorio del archivo y ejecuta:\n",
    "    * python 001-simple-chatbot.py"
   ]
  },
  {
   "cell_type": "code",
   "execution_count": null,
   "id": "c44ba3a6-ff9c-49c5-b5a0-23f2ff7b367c",
   "metadata": {},
   "outputs": [],
   "source": [
    "# filepath: /home/manu/dev/bootcamp/app_1/zzz-nb001-simple-chatbot.ipynb\n",
    "# ...código existente..."
   ]
  }
 ],
 "metadata": {
  "kernelspec": {
   "display_name": "Python 3 (ipykernel)",
   "language": "python",
   "name": "python3"
  },
  "language_info": {
   "codemirror_mode": {
    "name": "ipython",
    "version": 3
   },
   "file_extension": ".py",
   "mimetype": "text/x-python",
   "name": "python",
   "nbconvert_exporter": "python",
   "pygments_lexer": "ipython3",
   "version": "3.11.4"
  }
 },
 "nbformat": 4,
 "nbformat_minor": 5
}
